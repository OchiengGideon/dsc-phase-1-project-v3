{
 "cells": [
  {
   "cell_type": "markdown",
   "metadata": {},
   "source": [
    "## Final Project Submission\n",
    "\n",
    "Please fill out:\n",
    "* Student name: \n",
    "* Student pace: self paced / part time / full time\n",
    "* Scheduled project review date/time: \n",
    "* Instructor name: \n",
    "* Blog post URL:\n"
   ]
  },
  {
   "cell_type": "markdown",
   "metadata": {},
   "source": [
    "# Analysis on the best airplanes for purchase\n",
    "## 1 Business Understanding\n",
    "### 1.1 Overview \n",
    "\n",
    "**Tujenge Limited** is a global travel platform that provides luxurious transportation and accommodation services to its clients, which include business owners and travelers seeking both convenience and comfort. It was started in the year 2002 with Gideon Ochieng as the founder. The company initially focused on helping businesses coordinate group travel across different states and countries. It facilitates transportaion and accomodations for business owners and also personns who travel for ammusement. Since it started, Tujenge LTD has expanded with at least `5 branches` in every continent due to its amaizing offers and services it provides for its customers. The company has served approximately 2 million clients worldwide, thanks to its excellent service and attractive offers.\n",
    "\n",
    "### 1.2 Problem statement\n",
    "\n",
    "With the increase of customers, the company has had problems getting planes ready for the users in time while using third party airlines. hence the company has decided to purchase and operate it own airplaces for both commercial and private enterprice. With our own airplanes we will be able to ensure that our customers dont get any delays which we face when using other airline. The critical issue now is determining which aircraft models are the safest and lowest-risk options for the company's expansion into the aviation industry.\n",
    "\n",
    "### 1.3 Objectives\n",
    "1. To clean the dataset\n",
    "2. To anayze the dataset and come up with aactionalble insight\n",
    "3. To create an interactive dashboard\n",
    "\n",
    "### 1.4 Success matrix\n",
    "- Being able to determining which aircraft are the lowest risk for the company\n",
    "- Being able to translate my findings into actionable insights that the head of the new aviation division can use to help decide which aircraft to purchase\n",
    "- Creating an interactive dashboard\n",
    "### 1.5 Assumptions\n",
    "- The dataset accurately reflects aviation risk factors \n",
    "- The analysis assumes that aircraft models with lower accident frequency and severity are more suitable for purchase.\n",
    "### 1.6 Limitations\n",
    "- The dataset focuses on civil aviation accidents in the U.S. and international waters, which may not account for regional risks in areas where Tujenge operates.\n",
    "- The data spans multiple decades, and technological advancements over time may impact the relevance of older incidents."
   ]
  },
  {
   "cell_type": "markdown",
   "metadata": {},
   "source": []
  },
  {
   "cell_type": "markdown",
   "metadata": {},
   "source": []
  },
  {
   "cell_type": "markdown",
   "metadata": {},
   "source": []
  }
 ],
 "metadata": {
  "kernelspec": {
   "display_name": "Python 3",
   "language": "python",
   "name": "python3"
  },
  "language_info": {
   "codemirror_mode": {
    "name": "ipython",
    "version": 3
   },
   "file_extension": ".py",
   "mimetype": "text/x-python",
   "name": "python",
   "nbconvert_exporter": "python",
   "pygments_lexer": "ipython3",
   "version": "3.6.4"
  }
 },
 "nbformat": 4,
 "nbformat_minor": 2
}
